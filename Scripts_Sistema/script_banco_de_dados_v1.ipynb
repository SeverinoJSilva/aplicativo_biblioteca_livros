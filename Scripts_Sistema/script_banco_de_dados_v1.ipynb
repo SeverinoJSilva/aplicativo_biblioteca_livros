{
 "cells": [
  {
   "cell_type": "markdown",
   "id": "8b8c4e08-fe5a-4545-8536-3340319e61db",
   "metadata": {},
   "source": [
    "# Criando um banco de dados"
   ]
  },
  {
   "cell_type": "code",
   "execution_count": 1,
   "id": "deda6b8e-b69b-48bc-a457-14322420fe27",
   "metadata": {
    "tags": []
   },
   "outputs": [
    {
     "name": "stdout",
     "output_type": "stream",
     "text": [
      "Banco de dados criados com sucesso!\n"
     ]
    }
   ],
   "source": [
    "# importando sqlite3\n",
    "import sqlite3\n",
    "# Abre uma conexão com um banco de dados e caso não exista o sistema cria\n",
    "conn = sqlite3.connect('biblioteca_V1.db')\n",
    "cursor = conn.cursor()\n",
    "\n",
    "# Script do banco de dados\n",
    "# 1. Criar a tabela Usuario\n",
    "cursor.execute('''\n",
    "    CREATE TABLE IF NOT EXISTS tb_usuario (\n",
    "        ID_USUARIO INTEGER PRIMARY KEY,\n",
    "        NOME VARCHAR(60) NOT NULL,\n",
    "        TELEFONE VARCHAR(20) NOT NULL,\n",
    "        ENDERECO VARCHAR(60) NOT NULL,\n",
    "        EMAIL VARCHAR(60) NOT NULL UNIQUE,\n",
    "        SENHA_USUARIO TEXT NOT NULL, \n",
    "        TIPO_USUARIO TEXT NOT NULL DEFAULT 'usuario'\n",
    "    )\n",
    "''')\n",
    "\n",
    "# 2. Criar a tabela Livro\n",
    "cursor.execute('''\n",
    "    CREATE TABLE IF NOT EXISTS tb_livro (\n",
    "        ID_ISBN INTEGER PRIMARY KEY,\n",
    "        TITULO VARCHAR(60) NOT NULL,\n",
    "        AUTOR VARCHAR(60) NOT NULL,\n",
    "        EDITORA VARCHAR(30) NOT NULL,\n",
    "        ANO INTEGER NOT NULL,\n",
    "        PAGINAS INTEGER,\n",
    "        VALOR DECIMAL(10, 2) NOT NULL,\n",
    "        QUANTIDADE INTEGER(10),\n",
    "        DESCRICAO VARCHAR(60),\n",
    "        COMENTARIO VARCHAR(10000)\n",
    "    )\n",
    "''')\n",
    "\n",
    "# 3. Criar a tabela Reserva\n",
    "cursor.execute('''\n",
    "    CREATE TABLE IF NOT EXISTS tb_reserva (\n",
    "        ID_RESERVA INTEGER PRIMARY KEY,\n",
    "        DATA_RESERVA DATE,\n",
    "        ID_USUARIO INTEGER,\n",
    "        ID_ISBN INTEGER,\n",
    "        FOREIGN KEY (ID_USUARIO) REFERENCES tb_usuario (ID_USUARIO)\n",
    "            ON DELETE CASCADE ON UPDATE CASCADE,\n",
    "        FOREIGN KEY (ID_ISBN) REFERENCES tb_livro (ID_ISBN)\n",
    "            ON DELETE CASCADE ON UPDATE CASCADE\n",
    "    )\n",
    "''')\n",
    "\n",
    "# 4. Criar a tabela Emprestimo\n",
    "cursor.execute('''\n",
    "    CREATE TABLE IF NOT EXISTS tb_emprestimo (\n",
    "        ID_EMPRESTIMO INTEGER PRIMARY KEY,\n",
    "        DATA_RETIRADA DATE,\n",
    "        DATA_DEVOLUCAO DATE,\n",
    "        SITUACAO_EMPRESTIMO,\n",
    "        ID_USUARIO INTEGER,\n",
    "        ID_ISBN INTEGER,\n",
    "        FOREIGN KEY (ID_USUARIO) REFERENCES tb_usuario (ID_USUARIO)\n",
    "            ON DELETE CASCADE ON UPDATE CASCADE,\n",
    "        FOREIGN KEY (ID_ISBN) REFERENCES tb_livro (ID_ISBN)\n",
    "            ON DELETE CASCADE ON UPDATE CASCADE\n",
    "    )\n",
    "''')\n",
    "\n",
    "# Verificar se já existe um administrador na tabela 'tb_usuario'\n",
    "cursor.execute(\"SELECT ID_USUARIO FROM tb_usuario WHERE NOME = 'admin'\")\n",
    "admin_exists = cursor.fetchone()\n",
    "# Se não existe um administrador, insira os dados do administrador do sistema\n",
    "if not admin_exists:\n",
    "    cursor.execute(\"INSERT INTO tb_usuario (ID_USUARIO, NOME, TELEFONE, ENDERECO, EMAIL, SENHA_USUARIO, TIPO_USUARIO) VALUES (?,?,?,?,?,?,?)\",\n",
    "                   (20230000, 'admin', 'admin','admin', 'admin','admin', 'admin'))\n",
    "\n",
    "# Salvar as alterações e fechar a conexão\n",
    "conn.commit()\n",
    "conn.close()\n",
    "\n",
    "print(\"Banco de dados criados com sucesso!\")"
   ]
  },
  {
   "cell_type": "code",
   "execution_count": null,
   "id": "889a6150-a749-43eb-8b74-c433f0356563",
   "metadata": {},
   "outputs": [],
   "source": []
  }
 ],
 "metadata": {
  "kernelspec": {
   "display_name": "Python 3 (ipykernel)",
   "language": "python",
   "name": "python3"
  },
  "language_info": {
   "codemirror_mode": {
    "name": "ipython",
    "version": 3
   },
   "file_extension": ".py",
   "mimetype": "text/x-python",
   "name": "python",
   "nbconvert_exporter": "python",
   "pygments_lexer": "ipython3",
   "version": "3.11.5"
  }
 },
 "nbformat": 4,
 "nbformat_minor": 5
}
